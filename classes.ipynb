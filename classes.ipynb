{
  "cells": [
    {
      "cell_type": "code",
      "execution_count": 1,
      "metadata": {
        "colab": {
          "base_uri": "https://localhost:8080/"
        },
        "id": "2XL71tBiELOe",
        "outputId": "122e9824-4200-4d5e-cc46-b67d458b8d3c"
      },
      "outputs": [
        {
          "name": "stdout",
          "output_type": "stream",
          "text": [
            "Car: Mercedes G-Wagon\n",
            "Mercedes\n",
            "G-Wagon\n"
          ]
        }
      ],
      "source": [
        "class Car:\n",
        "\n",
        "  def __init__(self, brand, model):\n",
        "    self.brand = brand\n",
        "    self.model = model\n",
        "\n",
        "  def display(self):\n",
        "    print(f\"Car: {self.brand} {self.model}\")\n",
        "\n",
        "my_car = Car(\"Mercedes\", \"G-Wagon\")\n",
        "my_car.display()\n",
        "print(my_car.brand)\n",
        "print(my_car.model)"
      ]
    },
    {
      "cell_type": "code",
      "execution_count": 2,
      "metadata": {
        "colab": {
          "base_uri": "https://localhost:8080/"
        },
        "id": "ARsL7pZqFCYc",
        "outputId": "1a8e0dc6-b219-4f89-d0d2-0319d80e0376"
      },
      "outputs": [
        {
          "name": "stdout",
          "output_type": "stream",
          "text": [
            "Car: Mercedes G-Wagon\n",
            "Mercedes\n",
            "G-Wagon\n"
          ]
        }
      ],
      "source": [
        "class Car:\n",
        "\n",
        "  def __init__(self, brand, model):\n",
        "    self._brand = brand  ##Protected\n",
        "    self._model = model  ##Protected\n",
        "\n",
        "  def display(self):\n",
        "    print(f\"Car: {self._brand} {self._model}\")\n",
        "\n",
        "my_car = Car(\"Mercedes\", \"G-Wagon\")\n",
        "my_car.display()\n",
        "print(my_car._brand)\n",
        "print(my_car._model)"
      ]
    },
    {
      "cell_type": "code",
      "execution_count": 3,
      "metadata": {
        "colab": {
          "base_uri": "https://localhost:8080/"
        },
        "id": "kSWnseT5F5_P",
        "outputId": "7a63cbd2-1167-43f7-f5df-f6891fc1736a"
      },
      "outputs": [
        {
          "name": "stdout",
          "output_type": "stream",
          "text": [
            "Car: Mercedes G-Wagon\n"
          ]
        }
      ],
      "source": [
        "class Car:\n",
        "\n",
        "  def __init__(self, brand, model):\n",
        "    self.__brand = brand  ##Private\n",
        "    self.__model = model  ##Private\n",
        "\n",
        "  def display(self):   ##Public\n",
        "    print(f\"Car: {self.__brand} {self.__model}\")\n",
        "\n",
        "my_car = Car(\"Mercedes\", \"G-Wagon\")\n",
        "my_car.display()\n",
        "#print(my_car.__brand)\n",
        "#print(my_car.__model)"
      ]
    },
    {
      "cell_type": "code",
      "execution_count": null,
      "metadata": {
        "id": "dSb_8sBuHdlO"
      },
      "outputs": [],
      "source": []
    },
    {
      "cell_type": "code",
      "execution_count": 4,
      "metadata": {
        "colab": {
          "base_uri": "https://localhost:8080/"
        },
        "id": "9zS6jplVGudS",
        "outputId": "f5d473ca-c211-4946-d8c0-6fd40bf1a080"
      },
      "outputs": [
        {
          "name": "stdout",
          "output_type": "stream",
          "text": [
            "Mercedes\n",
            "G-Wagon\n"
          ]
        }
      ],
      "source": [
        "class Car:\n",
        "\n",
        "  def __init__(self, brand, model):\n",
        "    self.__brand = brand  ##Private\n",
        "    self.__model = model  ##Private\n",
        "\n",
        "\n",
        "\n",
        "my_car = Car(\"Mercedes\", \"G-Wagon\")\n",
        "print(my_car._Car__brand)\n",
        "print(my_car._Car__model)"
      ]
    },
    {
      "cell_type": "code",
      "execution_count": 5,
      "metadata": {
        "colab": {
          "base_uri": "https://localhost:8080/"
        },
        "id": "GU1kBUEPHihz",
        "outputId": "c71ccf9f-9333-42ff-cbd2-7c7ebfc63909"
      },
      "outputs": [
        {
          "name": "stdout",
          "output_type": "stream",
          "text": [
            "('Mercedes', 'G-Wagon')\n",
            "('Mahindra', 'Scorpio')\n"
          ]
        }
      ],
      "source": [
        "class Car:\n",
        "\n",
        "  def __init__(self, brand, model):\n",
        "    self.__brand = brand  ##Private\n",
        "    self.__model = model  ##Private\n",
        "\n",
        "  def get(self):   ##Public\n",
        "    return self.__brand, self.__model\n",
        "\n",
        "\n",
        "  def set(self, new_brand, new_model): ##Public\n",
        "    self.__brand = new_brand\n",
        "    self.__model = new_model\n",
        "\n",
        "my_car = Car(\"Mercedes\", \"G-Wagon\")\n",
        "\n",
        "print(my_car.get())\n",
        "my_car.set(\"Mahindra\", \"Scorpio\")\n",
        "\n",
        "print(my_car.get())\n",
        "\n"
      ]
    },
    {
      "cell_type": "code",
      "execution_count": 6,
      "metadata": {
        "colab": {
          "base_uri": "https://localhost:8080/"
        },
        "id": "IZWBn1CRIZK0",
        "outputId": "bb574dbf-4e76-4296-eb00-787ced1382bc"
      },
      "outputs": [
        {
          "name": "stdout",
          "output_type": "stream",
          "text": [
            "BMW\n"
          ]
        }
      ],
      "source": [
        "class Car:\n",
        "  def __init__(self, brand):\n",
        "    self.__brand = brand\n",
        "\n",
        "\n",
        "my_car = Car(\"BMW\")\n",
        "\n",
        "print(getattr(my_car, \"_Car__brand\"))"
      ]
    },
    {
      "cell_type": "code",
      "execution_count": null,
      "metadata": {
        "id": "nvPnNEW6J8Qs"
      },
      "outputs": [],
      "source": []
    }
  ],
  "metadata": {
    "colab": {
      "provenance": []
    },
    "kernelspec": {
      "display_name": "Python 3",
      "name": "python3"
    },
    "language_info": {
      "codemirror_mode": {
        "name": "ipython",
        "version": 3
      },
      "file_extension": ".py",
      "mimetype": "text/x-python",
      "name": "python",
      "nbconvert_exporter": "python",
      "pygments_lexer": "ipython3",
      "version": "3.11.9"
    }
  },
  "nbformat": 4,
  "nbformat_minor": 0
}
